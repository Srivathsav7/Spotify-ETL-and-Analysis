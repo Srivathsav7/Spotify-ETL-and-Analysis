{
 "cells": [
  {
   "cell_type": "markdown",
   "id": "e1c7c74f",
   "metadata": {},
   "source": [
    "# Extracting data for Music for ML analysis"
   ]
  },
  {
   "cell_type": "code",
   "execution_count": 12,
   "id": "c3b5ec5f",
   "metadata": {},
   "outputs": [],
   "source": [
    "import pandas as pd\n",
    "import numpy as np\n",
    "import seaborn as sns\n",
    "import matplotlib.pyplot as plt"
   ]
  },
  {
   "cell_type": "code",
   "execution_count": 4,
   "id": "f8b48937",
   "metadata": {},
   "outputs": [
    {
     "data": {
      "text/html": [
       "<div>\n",
       "<style scoped>\n",
       "    .dataframe tbody tr th:only-of-type {\n",
       "        vertical-align: middle;\n",
       "    }\n",
       "\n",
       "    .dataframe tbody tr th {\n",
       "        vertical-align: top;\n",
       "    }\n",
       "\n",
       "    .dataframe thead th {\n",
       "        text-align: right;\n",
       "    }\n",
       "</style>\n",
       "<table border=\"1\" class=\"dataframe\">\n",
       "  <thead>\n",
       "    <tr style=\"text-align: right;\">\n",
       "      <th></th>\n",
       "      <th>track_name</th>\n",
       "      <th>acousticness</th>\n",
       "      <th>danceability</th>\n",
       "      <th>duration_ms</th>\n",
       "      <th>energy</th>\n",
       "      <th>instrumentalness</th>\n",
       "      <th>key</th>\n",
       "      <th>liveness</th>\n",
       "      <th>loudness</th>\n",
       "      <th>mode</th>\n",
       "      <th>speechiness</th>\n",
       "      <th>tempo</th>\n",
       "      <th>valence</th>\n",
       "      <th>music_genre</th>\n",
       "    </tr>\n",
       "  </thead>\n",
       "  <tbody>\n",
       "    <tr>\n",
       "      <th>0</th>\n",
       "      <td>Röyksopp's Night Out</td>\n",
       "      <td>0.00468</td>\n",
       "      <td>0.652</td>\n",
       "      <td>-1.0</td>\n",
       "      <td>0.941</td>\n",
       "      <td>0.79200</td>\n",
       "      <td>A#</td>\n",
       "      <td>0.115</td>\n",
       "      <td>-5.201</td>\n",
       "      <td>Minor</td>\n",
       "      <td>0.0748</td>\n",
       "      <td>100.889</td>\n",
       "      <td>0.759</td>\n",
       "      <td>Electronic</td>\n",
       "    </tr>\n",
       "    <tr>\n",
       "      <th>1</th>\n",
       "      <td>The Shining Path</td>\n",
       "      <td>0.01270</td>\n",
       "      <td>0.622</td>\n",
       "      <td>218293.0</td>\n",
       "      <td>0.890</td>\n",
       "      <td>0.95000</td>\n",
       "      <td>D</td>\n",
       "      <td>0.124</td>\n",
       "      <td>-7.043</td>\n",
       "      <td>Minor</td>\n",
       "      <td>0.0300</td>\n",
       "      <td>115.00200000000001</td>\n",
       "      <td>0.531</td>\n",
       "      <td>Electronic</td>\n",
       "    </tr>\n",
       "    <tr>\n",
       "      <th>2</th>\n",
       "      <td>Hurricane</td>\n",
       "      <td>0.00306</td>\n",
       "      <td>0.620</td>\n",
       "      <td>215613.0</td>\n",
       "      <td>0.755</td>\n",
       "      <td>0.01180</td>\n",
       "      <td>G#</td>\n",
       "      <td>0.534</td>\n",
       "      <td>-4.617</td>\n",
       "      <td>Major</td>\n",
       "      <td>0.0345</td>\n",
       "      <td>127.994</td>\n",
       "      <td>0.333</td>\n",
       "      <td>Electronic</td>\n",
       "    </tr>\n",
       "    <tr>\n",
       "      <th>3</th>\n",
       "      <td>Nitro</td>\n",
       "      <td>0.02540</td>\n",
       "      <td>0.774</td>\n",
       "      <td>166875.0</td>\n",
       "      <td>0.700</td>\n",
       "      <td>0.00253</td>\n",
       "      <td>C#</td>\n",
       "      <td>0.157</td>\n",
       "      <td>-4.498</td>\n",
       "      <td>Major</td>\n",
       "      <td>0.2390</td>\n",
       "      <td>128.014</td>\n",
       "      <td>0.270</td>\n",
       "      <td>Electronic</td>\n",
       "    </tr>\n",
       "    <tr>\n",
       "      <th>4</th>\n",
       "      <td>Divide &amp; Conquer</td>\n",
       "      <td>0.00465</td>\n",
       "      <td>0.638</td>\n",
       "      <td>222369.0</td>\n",
       "      <td>0.587</td>\n",
       "      <td>0.90900</td>\n",
       "      <td>F#</td>\n",
       "      <td>0.157</td>\n",
       "      <td>-6.266</td>\n",
       "      <td>Major</td>\n",
       "      <td>0.0413</td>\n",
       "      <td>145.036</td>\n",
       "      <td>0.323</td>\n",
       "      <td>Electronic</td>\n",
       "    </tr>\n",
       "  </tbody>\n",
       "</table>\n",
       "</div>"
      ],
      "text/plain": [
       "             track_name  acousticness  danceability  duration_ms  energy  \\\n",
       "0  Röyksopp's Night Out       0.00468         0.652         -1.0   0.941   \n",
       "1      The Shining Path       0.01270         0.622     218293.0   0.890   \n",
       "2             Hurricane       0.00306         0.620     215613.0   0.755   \n",
       "3                 Nitro       0.02540         0.774     166875.0   0.700   \n",
       "4      Divide & Conquer       0.00465         0.638     222369.0   0.587   \n",
       "\n",
       "   instrumentalness key  liveness  loudness   mode  speechiness  \\\n",
       "0           0.79200  A#     0.115    -5.201  Minor       0.0748   \n",
       "1           0.95000   D     0.124    -7.043  Minor       0.0300   \n",
       "2           0.01180  G#     0.534    -4.617  Major       0.0345   \n",
       "3           0.00253  C#     0.157    -4.498  Major       0.2390   \n",
       "4           0.90900  F#     0.157    -6.266  Major       0.0413   \n",
       "\n",
       "                tempo  valence music_genre  \n",
       "0             100.889    0.759  Electronic  \n",
       "1  115.00200000000001    0.531  Electronic  \n",
       "2             127.994    0.333  Electronic  \n",
       "3             128.014    0.270  Electronic  \n",
       "4             145.036    0.323  Electronic  "
      ]
     },
     "execution_count": 4,
     "metadata": {},
     "output_type": "execute_result"
    }
   ],
   "source": [
    "df=pd.read_excel('Music_genre.xlsx')\n",
    "df.head()"
   ]
  },
  {
   "cell_type": "markdown",
   "id": "4ff3bda4",
   "metadata": {},
   "source": [
    "# Label Encoding"
   ]
  },
  {
   "cell_type": "code",
   "execution_count": 10,
   "id": "d2488db5",
   "metadata": {},
   "outputs": [],
   "source": [
    "#key and genre are category variables and need to be converted into digits\n",
    "from sklearn.preprocessing import LabelEncoder\n",
    "\n",
    "# Create an instance of LabelEncoder\n",
    "label_encoder = LabelEncoder()\n",
    "\n",
    "# Fit and transform the categorical variable\n",
    "df['key'] = label_encoder.fit_transform(df['key'])\n",
    "df['music_genre']=label_encoder.fit_transform(df['music_genre'])\n",
    "df['mode']=label_encoder.fit_transform(df['mode'])"
   ]
  },
  {
   "cell_type": "markdown",
   "id": "1776bc23",
   "metadata": {},
   "source": [
    "# Correlation Analysis"
   ]
  },
  {
   "cell_type": "code",
   "execution_count": 13,
   "id": "efb8599f",
   "metadata": {},
   "outputs": [
    {
     "data": {
      "image/png": "[encoded data removed]",
      "text/plain": [
       "<Figure size 432x288 with 2 Axes>"
      ]
     },
     "metadata": {
      "needs_background": "light"
     },
     "output_type": "display_data"
    }
   ],
   "source": [
    "#correlation analysis\n",
    "correlation_matrix=df.corr()\n",
    "sns.heatmap(correlation_matrix, annot=True, cmap='coolwarm')\n",
    "\n",
    "# Show the plot\n",
    "plt.show()"
   ]
  },
  {
   "cell_type": "markdown",
   "id": "ada9d7a7",
   "metadata": {},
   "source": [
    "# Checking Anamolies"
   ]
  },
  {
   "cell_type": "code",
   "execution_count": 16,
   "id": "e2c5bdb9",
   "metadata": {},
   "outputs": [
    {
     "data": {
      "text/html": [
       "<div>\n",
       "<style scoped>\n",
       "    .dataframe tbody tr th:only-of-type {\n",
       "        vertical-align: middle;\n",
       "    }\n",
       "\n",
       "    .dataframe tbody tr th {\n",
       "        vertical-align: top;\n",
       "    }\n",
       "\n",
       "    .dataframe thead th {\n",
       "        text-align: right;\n",
       "    }\n",
       "</style>\n",
       "<table border=\"1\" class=\"dataframe\">\n",
       "  <thead>\n",
       "    <tr style=\"text-align: right;\">\n",
       "      <th></th>\n",
       "      <th>track_name</th>\n",
       "      <th>acousticness</th>\n",
       "      <th>danceability</th>\n",
       "      <th>duration_ms</th>\n",
       "      <th>energy</th>\n",
       "      <th>instrumentalness</th>\n",
       "      <th>key</th>\n",
       "      <th>liveness</th>\n",
       "      <th>loudness</th>\n",
       "      <th>mode</th>\n",
       "      <th>speechiness</th>\n",
       "      <th>tempo</th>\n",
       "      <th>valence</th>\n",
       "      <th>music_genre</th>\n",
       "    </tr>\n",
       "  </thead>\n",
       "  <tbody>\n",
       "    <tr>\n",
       "      <th>0</th>\n",
       "      <td>Röyksopp's Night Out</td>\n",
       "      <td>0.00468</td>\n",
       "      <td>0.652</td>\n",
       "      <td>-1.0</td>\n",
       "      <td>0.941</td>\n",
       "      <td>0.79200</td>\n",
       "      <td>1</td>\n",
       "      <td>0.115</td>\n",
       "      <td>-5.201</td>\n",
       "      <td>1</td>\n",
       "      <td>0.0748</td>\n",
       "      <td>100.889</td>\n",
       "      <td>0.759</td>\n",
       "      <td>5</td>\n",
       "    </tr>\n",
       "    <tr>\n",
       "      <th>1</th>\n",
       "      <td>The Shining Path</td>\n",
       "      <td>0.01270</td>\n",
       "      <td>0.622</td>\n",
       "      <td>218293.0</td>\n",
       "      <td>0.890</td>\n",
       "      <td>0.95000</td>\n",
       "      <td>5</td>\n",
       "      <td>0.124</td>\n",
       "      <td>-7.043</td>\n",
       "      <td>1</td>\n",
       "      <td>0.0300</td>\n",
       "      <td>115.00200000000001</td>\n",
       "      <td>0.531</td>\n",
       "      <td>5</td>\n",
       "    </tr>\n",
       "    <tr>\n",
       "      <th>2</th>\n",
       "      <td>Hurricane</td>\n",
       "      <td>0.00306</td>\n",
       "      <td>0.620</td>\n",
       "      <td>215613.0</td>\n",
       "      <td>0.755</td>\n",
       "      <td>0.01180</td>\n",
       "      <td>11</td>\n",
       "      <td>0.534</td>\n",
       "      <td>-4.617</td>\n",
       "      <td>0</td>\n",
       "      <td>0.0345</td>\n",
       "      <td>127.994</td>\n",
       "      <td>0.333</td>\n",
       "      <td>5</td>\n",
       "    </tr>\n",
       "    <tr>\n",
       "      <th>3</th>\n",
       "      <td>Nitro</td>\n",
       "      <td>0.02540</td>\n",
       "      <td>0.774</td>\n",
       "      <td>166875.0</td>\n",
       "      <td>0.700</td>\n",
       "      <td>0.00253</td>\n",
       "      <td>4</td>\n",
       "      <td>0.157</td>\n",
       "      <td>-4.498</td>\n",
       "      <td>0</td>\n",
       "      <td>0.2390</td>\n",
       "      <td>128.014</td>\n",
       "      <td>0.270</td>\n",
       "      <td>5</td>\n",
       "    </tr>\n",
       "    <tr>\n",
       "      <th>4</th>\n",
       "      <td>Divide &amp; Conquer</td>\n",
       "      <td>0.00465</td>\n",
       "      <td>0.638</td>\n",
       "      <td>222369.0</td>\n",
       "      <td>0.587</td>\n",
       "      <td>0.90900</td>\n",
       "      <td>9</td>\n",
       "      <td>0.157</td>\n",
       "      <td>-6.266</td>\n",
       "      <td>0</td>\n",
       "      <td>0.0413</td>\n",
       "      <td>145.036</td>\n",
       "      <td>0.323</td>\n",
       "      <td>5</td>\n",
       "    </tr>\n",
       "  </tbody>\n",
       "</table>\n",
       "</div>"
      ],
      "text/plain": [
       "             track_name  acousticness  danceability  duration_ms  energy  \\\n",
       "0  Röyksopp's Night Out       0.00468         0.652         -1.0   0.941   \n",
       "1      The Shining Path       0.01270         0.622     218293.0   0.890   \n",
       "2             Hurricane       0.00306         0.620     215613.0   0.755   \n",
       "3                 Nitro       0.02540         0.774     166875.0   0.700   \n",
       "4      Divide & Conquer       0.00465         0.638     222369.0   0.587   \n",
       "\n",
       "   instrumentalness  key  liveness  loudness  mode  speechiness  \\\n",
       "0           0.79200    1     0.115    -5.201     1       0.0748   \n",
       "1           0.95000    5     0.124    -7.043     1       0.0300   \n",
       "2           0.01180   11     0.534    -4.617     0       0.0345   \n",
       "3           0.00253    4     0.157    -4.498     0       0.2390   \n",
       "4           0.90900    9     0.157    -6.266     0       0.0413   \n",
       "\n",
       "                tempo  valence  music_genre  \n",
       "0             100.889    0.759            5  \n",
       "1  115.00200000000001    0.531            5  \n",
       "2             127.994    0.333            5  \n",
       "3             128.014    0.270            5  \n",
       "4             145.036    0.323            5  "
      ]
     },
     "execution_count": 16,
     "metadata": {},
     "output_type": "execute_result"
    }
   ],
   "source": [
    "#dropping na values and excluding '?' from the data\n",
    "df.dropna(inplace=True)\n",
    "df=df[~df[df.columns].isin(['?']).any(axis=1)]\n",
    "df.head()"
   ]
  },
  {
   "cell_type": "code",
   "execution_count": 26,
   "id": "cc68a651",
   "metadata": {},
   "outputs": [],
   "source": [
    "X=np.array(df[['acousticness','danceability','duration_ms','energy','instrumentalness','key','liveness','loudness','mode','speechiness','tempo','valence']])\n",
    "Y=np.array(df[['music_genre']])\n",
    "Y=Y.ravel()"
   ]
  },
  {
   "cell_type": "markdown",
   "id": "93d5cc3e",
   "metadata": {},
   "source": [
    "# Normalizing"
   ]
  },
  {
   "cell_type": "code",
   "execution_count": 19,
   "id": "bd91cf1a",
   "metadata": {},
   "outputs": [],
   "source": [
    "#normalizing the data to be on same scale\n",
    "from sklearn.preprocessing import MinMaxScaler\n",
    "\n",
    "scaler = MinMaxScaler()\n",
    "normalized_X = scaler.fit_transform(X)"
   ]
  },
  {
   "cell_type": "code",
   "execution_count": 36,
   "id": "7454bee5",
   "metadata": {},
   "outputs": [],
   "source": [
    "#Univariate feature selection method\n",
    "from sklearn.feature_selection import SelectKBest, chi2\n",
    "# Select top-k features using chi-squared test\n",
    "selector = SelectKBest(chi2, k=10)\n",
    "X_selected = selector.fit_transform(normalized_X, Y)"
   ]
  },
  {
   "cell_type": "code",
   "execution_count": 37,
   "id": "464b828d",
   "metadata": {},
   "outputs": [],
   "source": [
    "#Divide the data into training and test set\n",
    "from sklearn.model_selection import train_test_split\n",
    "\n",
    "# Split the feature matrix and target array into training and test sets\n",
    "X_train, X_test, y_train, y_test = train_test_split(X_selected, Y, test_size=0.2, random_state=42)"
   ]
  },
  {
   "cell_type": "markdown",
   "id": "a7416b04",
   "metadata": {},
   "source": [
    "# Classification models"
   ]
  },
  {
   "cell_type": "code",
   "execution_count": 39,
   "id": "83521d80",
   "metadata": {},
   "outputs": [
    {
     "name": "stdout",
     "output_type": "stream",
     "text": [
      "Logistic Regression:0.39593513993780544\n"
     ]
    }
   ],
   "source": [
    "#logistic regression\n",
    "from sklearn.linear_model import LogisticRegression\n",
    "from sklearn.metrics import accuracy_score\n",
    "logistic_regression = LogisticRegression(max_iter=10000)\n",
    "classifier=logistic_regression.fit(X_train,y_train)\n",
    "y_pred=classifier.predict(X_test)\n",
    "accuracy = accuracy_score(y_test, y_pred)\n",
    "print(f'Logistic Regression:{accuracy}')\n"
   ]
  },
  {
   "cell_type": "code",
   "execution_count": 38,
   "id": "6154ba6e",
   "metadata": {},
   "outputs": [
    {
     "name": "stdout",
     "output_type": "stream",
     "text": [
      "Random Forest:0.41725899600177696\n"
     ]
    }
   ],
   "source": [
    "#Random Forest Algorithm\n",
    "from sklearn.ensemble import RandomForestClassifier\n",
    "random_forest=RandomForestClassifier()\n",
    "classifier=random_forest.fit(X_train,y_train)\n",
    "y_pred=classifier.predict(X_test)\n",
    "accuracy = accuracy_score(y_test, y_pred)\n",
    "print(f'Random Forest:{accuracy}')"
   ]
  },
  {
   "cell_type": "code",
   "execution_count": 44,
   "id": "01d6f824",
   "metadata": {},
   "outputs": [
    {
     "name": "stdout",
     "output_type": "stream",
     "text": [
      "Naive Bayes: 0.3501776988005331\n"
     ]
    }
   ],
   "source": [
    "from sklearn.naive_bayes import GaussianNB\n",
    "# Create a Naive Bayes classifier\n",
    "naive_bayes = GaussianNB()\n",
    "\n",
    "# Train the classifier\n",
    "naive_bayes.fit(X_train, y_train)\n",
    "\n",
    "# Predict the labels for the test set\n",
    "y_pred = naive_bayes.predict(X_test)\n",
    "\n",
    "# Calculate the accuracy of the classifier\n",
    "accuracy = accuracy_score(y_test, y_pred)\n",
    "print(\"Naive Bayes:\", accuracy)"
   ]
  }
 ],
 "metadata": {
  "kernelspec": {
   "display_name": "Python 3 (ipykernel)",
   "language": "python",
   "name": "python3"
  },
  "language_info": {
   "codemirror_mode": {
    "name": "ipython",
    "version": 3
   },
   "file_extension": ".py",
   "mimetype": "text/x-python",
   "name": "python",
   "nbconvert_exporter": "python",
   "pygments_lexer": "ipython3",
   "version": "3.9.12"
  }
 },
 "nbformat": 4,
 "nbformat_minor": 5
}

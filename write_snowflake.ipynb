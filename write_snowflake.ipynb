{
 "cells": [
  {
   "cell_type": "markdown",
   "id": "dbf7d0f5",
   "metadata": {},
   "source": [
    "# Credentials for Snowflake"
   ]
  },
  {
   "cell_type": "code",
   "execution_count": 1,
   "id": "6ddf8ef2",
   "metadata": {},
   "outputs": [],
   "source": [
    "#Login credentials for sknowflake.\n",
    "#Ideal scenario these are stored as env variables\n",
    "User_Name='MITNALAS'\n",
    "password='@Inferno112'\n",
    "database='SPOTIFY_KRISHNA_DATA'\n",
    "schema='SPOTIFY_SCHEMA'\n",
    "account_name='nvb90940.us-east-1'"
   ]
  },
  {
   "cell_type": "markdown",
   "id": "8704475c",
   "metadata": {},
   "source": [
    "# Importing Libraries"
   ]
  },
  {
   "cell_type": "code",
   "execution_count": 2,
   "id": "01fff982",
   "metadata": {},
   "outputs": [],
   "source": [
    "#importing libraries\n",
    "import pandas as pd\n",
    "import snowflake.connector"
   ]
  },
  {
   "cell_type": "code",
   "execution_count": 8,
   "id": "7a2dcbc4",
   "metadata": {},
   "outputs": [],
   "source": [
    "#Reading the files that are to be loaded onto the Snowflake databse\n",
    "Album_rank=pd.read_excel('Album_genre_rank.xlsx')\n",
    "Album_release=pd.read_excel('album_release.xlsx')\n",
    "Music_Genre=pd.read_excel('Music_genre.xlsx')\n",
    "Krishna_music=pd.read_excel('Krishna_music.xlsx')\n",
    "Song_popularity=pd.read_excel('Song_popularity.xlsx')"
   ]
  },
  {
   "cell_type": "markdown",
   "id": "78774b57",
   "metadata": {},
   "source": [
    "# Connecing to snowflake"
   ]
  },
  {
   "cell_type": "code",
   "execution_count": 4,
   "id": "969cce36",
   "metadata": {},
   "outputs": [],
   "source": [
    "#Connecting to snowflake\n",
    "conn = snowflake.connector.connect(\n",
    "    account=account_name,\n",
    "    user=User_Name,\n",
    "    password=password,\n",
    "    database=database,\n",
    "    schema=schema\n",
    ")"
   ]
  },
  {
   "cell_type": "code",
   "execution_count": 5,
   "id": "65ce5e7a",
   "metadata": {},
   "outputs": [],
   "source": [
    "#Loaded data from csvs onto the snowflake database\n",
    "cursor=conn.cursor()"
   ]
  },
  {
   "cell_type": "markdown",
   "id": "0411cd2e",
   "metadata": {},
   "source": [
    "# Creating Tables"
   ]
  },
  {
   "cell_type": "code",
   "execution_count": 6,
   "id": "ab1ca65c",
   "metadata": {},
   "outputs": [],
   "source": [
    "#creating tables that are to be added onto the Database\n",
    "create_krishna_music=\"\"\"\n",
    "CREATE TABLE Krishna_Music (\n",
    "Song_ID varchar(100),\n",
    "Song_Name varchar(100),\n",
    "Artist_Name varchar(100),\n",
    "Album_Name varchar(100),\n",
    "Played_Date TIMESTAMP,\n",
    "PRIMARY KEY(Album_Name))\n",
    "\"\"\"\n",
    "\n",
    "create_song_popular=\"\"\"\n",
    "CREATE TABLE Song_popularity (\n",
    "Artist_name varchar(200),\n",
    "Track_name varchar(500),\n",
    "Popularity float(5))\n",
    "\"\"\"\n",
    "\n",
    "create_album_rank=\"\"\"\n",
    "CREATE TABLE Album_rank(\n",
    "Album_name varchar(100),\n",
    "Artist_name varchar(100),\n",
    "Rank int,\n",
    "Genre varchar(10),\n",
    "FOREIGN KEY(Album_name) REFERENCES Krishna_music(Album_Name)\n",
    ")\n",
    "\"\"\"\n",
    "\n",
    "create_album_release=\"\"\"\n",
    "CREATE TABLE Album_release(\n",
    "Album_name varchar(100),\n",
    "Album_ID varchar(100),\n",
    "Number_of_songs int,\n",
    "Release_Date Date,\n",
    "PRIMARY KEY(Album_ID),\n",
    "FOREIGN KEY(Album_name) REFERENCES Krishna_music(Album_Name)\n",
    ")\n",
    "\"\"\"\n",
    "\n",
    "create_music_genre=\"\"\"\n",
    "CREATE TABLE Music_Genre(\n",
    "Track_name varchar(500),\n",
    "acousticness float(5),\n",
    "danceability float(5),\n",
    "duration int,\n",
    "energy float(5),\n",
    "instrumentalness float(5),\n",
    "Key varchar(5),\n",
    "liveness float(10),\n",
    "loudness float(10),\n",
    "mode varchar(20),\n",
    "speechiness float(10),\n",
    "tempo float(10),\n",
    "valence float(10),\n",
    "Genre varchar(20)\n",
    ")\n",
    "\"\"\"\n",
    "\n",
    "#cursor.execute(create_krishna_music)\n",
    "#cursor.execute(create_album_rank)\n",
    "#cursor.execute(create_album_release)\n",
    "#cursor.execute(create_music_genre)\n",
    "cursor.execute(create_song_popular)\n",
    "conn.commit()"
   ]
  },
  {
   "cell_type": "markdown",
   "id": "27443464",
   "metadata": {},
   "source": [
    "# Transforming Data in the required format"
   ]
  },
  {
   "cell_type": "code",
   "execution_count": 7,
   "id": "4a82fcf2",
   "metadata": {},
   "outputs": [
    {
     "data": {
      "text/plain": [
       "24"
      ]
     },
     "execution_count": 7,
     "metadata": {},
     "output_type": "execute_result"
    }
   ],
   "source": [
    "#Remove duplicates from Krishna music\n",
    "Krishna_music.drop_duplicates(subset='Album Name', keep='first', inplace=True)\n",
    "len(Krishna_music)"
   ]
  },
  {
   "cell_type": "code",
   "execution_count": 8,
   "id": "8ac3c101",
   "metadata": {},
   "outputs": [
    {
     "data": {
      "text/html": [
       "<div>\n",
       "<style scoped>\n",
       "    .dataframe tbody tr th:only-of-type {\n",
       "        vertical-align: middle;\n",
       "    }\n",
       "\n",
       "    .dataframe tbody tr th {\n",
       "        vertical-align: top;\n",
       "    }\n",
       "\n",
       "    .dataframe thead th {\n",
       "        text-align: right;\n",
       "    }\n",
       "</style>\n",
       "<table border=\"1\" class=\"dataframe\">\n",
       "  <thead>\n",
       "    <tr style=\"text-align: right;\">\n",
       "      <th></th>\n",
       "      <th>Song_ID</th>\n",
       "      <th>Song_Name</th>\n",
       "      <th>Artist_Name</th>\n",
       "      <th>Album_Name</th>\n",
       "      <th>Played_Date</th>\n",
       "    </tr>\n",
       "  </thead>\n",
       "  <tbody>\n",
       "    <tr>\n",
       "      <th>0</th>\n",
       "      <td>6AQbmUe0Qwf5PZnt4HmTXv</td>\n",
       "      <td>Boy's a liar Pt. 2</td>\n",
       "      <td>PinkPantheress</td>\n",
       "      <td>Boy's a liar Pt. 2</td>\n",
       "      <td>2023-05-14T15:53:57.265Z</td>\n",
       "    </tr>\n",
       "    <tr>\n",
       "      <th>1</th>\n",
       "      <td>5fVZC9GiM4e8vu99W0Xf6J</td>\n",
       "      <td>How to Save a Life</td>\n",
       "      <td>The Fray</td>\n",
       "      <td>How To Save A Life</td>\n",
       "      <td>2023-05-14T05:53:47.150Z</td>\n",
       "    </tr>\n",
       "    <tr>\n",
       "      <th>2</th>\n",
       "      <td>5hnyJvgoWiQUYZttV4wXy6</td>\n",
       "      <td>Chasing Cars</td>\n",
       "      <td>Snow Patrol</td>\n",
       "      <td>Eyes Open</td>\n",
       "      <td>2023-05-14T05:51:12.437Z</td>\n",
       "    </tr>\n",
       "    <tr>\n",
       "      <th>3</th>\n",
       "      <td>4RCWB3V8V0dignt99LZ8vH</td>\n",
       "      <td>Hey There Delilah</td>\n",
       "      <td>Plain White T's</td>\n",
       "      <td>All That We Needed</td>\n",
       "      <td>2023-05-14T05:46:04.159Z</td>\n",
       "    </tr>\n",
       "    <tr>\n",
       "      <th>4</th>\n",
       "      <td>2lFlveK1y13WWp3vnQtrr3</td>\n",
       "      <td>100 Years</td>\n",
       "      <td>Five For Fighting</td>\n",
       "      <td>The Battle for Everything</td>\n",
       "      <td>2023-05-14T05:42:11.233Z</td>\n",
       "    </tr>\n",
       "  </tbody>\n",
       "</table>\n",
       "</div>"
      ],
      "text/plain": [
       "                  Song_ID           Song_Name        Artist_Name  \\\n",
       "0  6AQbmUe0Qwf5PZnt4HmTXv  Boy's a liar Pt. 2     PinkPantheress   \n",
       "1  5fVZC9GiM4e8vu99W0Xf6J  How to Save a Life           The Fray   \n",
       "2  5hnyJvgoWiQUYZttV4wXy6        Chasing Cars        Snow Patrol   \n",
       "3  4RCWB3V8V0dignt99LZ8vH   Hey There Delilah    Plain White T's   \n",
       "4  2lFlveK1y13WWp3vnQtrr3           100 Years  Five For Fighting   \n",
       "\n",
       "                  Album_Name               Played_Date  \n",
       "0         Boy's a liar Pt. 2  2023-05-14T15:53:57.265Z  \n",
       "1         How To Save A Life  2023-05-14T05:53:47.150Z  \n",
       "2                  Eyes Open  2023-05-14T05:51:12.437Z  \n",
       "3         All That We Needed  2023-05-14T05:46:04.159Z  \n",
       "4  The Battle for Everything  2023-05-14T05:42:11.233Z  "
      ]
     },
     "execution_count": 8,
     "metadata": {},
     "output_type": "execute_result"
    }
   ],
   "source": [
    "#Rename Columns\n",
    "Krishna_music.rename(columns={'Song ID':'Song_ID','Song Name':'Song_Name','Artist Name':'Artist_Name','Album Name':'Album_Name','Played Date':'Played_Date'},inplace=True)\n",
    "Krishna_music.head()"
   ]
  },
  {
   "cell_type": "code",
   "execution_count": 61,
   "id": "ca27d3dd",
   "metadata": {},
   "outputs": [
    {
     "data": {
      "text/html": [
       "<div>\n",
       "<style scoped>\n",
       "    .dataframe tbody tr th:only-of-type {\n",
       "        vertical-align: middle;\n",
       "    }\n",
       "\n",
       "    .dataframe tbody tr th {\n",
       "        vertical-align: top;\n",
       "    }\n",
       "\n",
       "    .dataframe thead th {\n",
       "        text-align: right;\n",
       "    }\n",
       "</style>\n",
       "<table border=\"1\" class=\"dataframe\">\n",
       "  <thead>\n",
       "    <tr style=\"text-align: right;\">\n",
       "      <th></th>\n",
       "      <th>Album_name</th>\n",
       "      <th>Album_ID</th>\n",
       "      <th>Number_of_songs</th>\n",
       "      <th>Release_Date</th>\n",
       "    </tr>\n",
       "  </thead>\n",
       "  <tbody>\n",
       "    <tr>\n",
       "      <th>4</th>\n",
       "      <td>T R A P S O U L</td>\n",
       "      <td>6eZdwrhB97A3EYx9QppGfl</td>\n",
       "      <td>14</td>\n",
       "      <td>2015-10-02</td>\n",
       "    </tr>\n",
       "    <tr>\n",
       "      <th>5</th>\n",
       "      <td>Traveller</td>\n",
       "      <td>7lxHnls3yQNl8B9bILmHj7</td>\n",
       "      <td>14</td>\n",
       "      <td>2015-05-04</td>\n",
       "    </tr>\n",
       "    <tr>\n",
       "      <th>6</th>\n",
       "      <td>To Pimp A Butterfly</td>\n",
       "      <td>7ycBtnsMtyVbbwTfJwRjSP</td>\n",
       "      <td>16</td>\n",
       "      <td>2015-03-16</td>\n",
       "    </tr>\n",
       "    <tr>\n",
       "      <th>7</th>\n",
       "      <td>25</td>\n",
       "      <td>3AvPX1B1HiFROvYjLb5Qwi</td>\n",
       "      <td>11</td>\n",
       "      <td>2015-11-20</td>\n",
       "    </tr>\n",
       "    <tr>\n",
       "      <th>8</th>\n",
       "      <td>Blurryface</td>\n",
       "      <td>3cQO7jp5S9qLBoIVtbkSM1</td>\n",
       "      <td>14</td>\n",
       "      <td>2015-05-15</td>\n",
       "    </tr>\n",
       "  </tbody>\n",
       "</table>\n",
       "</div>"
      ],
      "text/plain": [
       "            Album_name                Album_ID  Number_of_songs Release_Date\n",
       "4      T R A P S O U L  6eZdwrhB97A3EYx9QppGfl               14   2015-10-02\n",
       "5            Traveller  7lxHnls3yQNl8B9bILmHj7               14   2015-05-04\n",
       "6  To Pimp A Butterfly  7ycBtnsMtyVbbwTfJwRjSP               16   2015-03-16\n",
       "7                   25  3AvPX1B1HiFROvYjLb5Qwi               11   2015-11-20\n",
       "8           Blurryface  3cQO7jp5S9qLBoIVtbkSM1               14   2015-05-15"
      ]
     },
     "execution_count": 61,
     "metadata": {},
     "output_type": "execute_result"
    }
   ],
   "source": [
    "#Album_release.rename(columns={'Album Name':'Album_name','Album ID':'Album_ID','Number of Songs':'Number_of_songs','Release Date':'Release_Date'},inplace=True)\n",
    "Album_release=Album_release.iloc[1:]\n",
    "Album_release['Album_name']=Album_release['Album_name'].str.strip()\n",
    "Album_release.dropna(inplace=True)\n",
    "Album_release.head()"
   ]
  },
  {
   "cell_type": "code",
   "execution_count": 71,
   "id": "e52e119e",
   "metadata": {},
   "outputs": [
    {
     "data": {
      "text/html": [
       "<div>\n",
       "<style scoped>\n",
       "    .dataframe tbody tr th:only-of-type {\n",
       "        vertical-align: middle;\n",
       "    }\n",
       "\n",
       "    .dataframe tbody tr th {\n",
       "        vertical-align: top;\n",
       "    }\n",
       "\n",
       "    .dataframe thead th {\n",
       "        text-align: right;\n",
       "    }\n",
       "</style>\n",
       "<table border=\"1\" class=\"dataframe\">\n",
       "  <thead>\n",
       "    <tr style=\"text-align: right;\">\n",
       "      <th></th>\n",
       "      <th>Album_name</th>\n",
       "      <th>Artist_name</th>\n",
       "      <th>Rank</th>\n",
       "      <th>Genre</th>\n",
       "    </tr>\n",
       "  </thead>\n",
       "  <tbody>\n",
       "    <tr>\n",
       "      <th>0</th>\n",
       "      <td>Minutes to Midnight</td>\n",
       "      <td>Linkin Park</td>\n",
       "      <td>1</td>\n",
       "      <td>rock</td>\n",
       "    </tr>\n",
       "    <tr>\n",
       "      <th>1</th>\n",
       "      <td>Abbey Road (Remastered)</td>\n",
       "      <td>The Beatles</td>\n",
       "      <td>2</td>\n",
       "      <td>rock</td>\n",
       "    </tr>\n",
       "    <tr>\n",
       "      <th>2</th>\n",
       "      <td>The Beatles (Remastered)</td>\n",
       "      <td>The Beatles</td>\n",
       "      <td>3</td>\n",
       "      <td>rock</td>\n",
       "    </tr>\n",
       "    <tr>\n",
       "      <th>3</th>\n",
       "      <td>Rumours (Super Deluxe)</td>\n",
       "      <td>Fleetwood Mac</td>\n",
       "      <td>4</td>\n",
       "      <td>rock</td>\n",
       "    </tr>\n",
       "    <tr>\n",
       "      <th>4</th>\n",
       "      <td>O My Heart</td>\n",
       "      <td>Mother Mother</td>\n",
       "      <td>5</td>\n",
       "      <td>rock</td>\n",
       "    </tr>\n",
       "  </tbody>\n",
       "</table>\n",
       "</div>"
      ],
      "text/plain": [
       "                 Album_name    Artist_name  Rank Genre\n",
       "0       Minutes to Midnight    Linkin Park     1  rock\n",
       "1   Abbey Road (Remastered)    The Beatles     2  rock\n",
       "2  The Beatles (Remastered)    The Beatles     3  rock\n",
       "3    Rumours (Super Deluxe)  Fleetwood Mac     4  rock\n",
       "4                O My Heart  Mother Mother     5  rock"
      ]
     },
     "execution_count": 71,
     "metadata": {},
     "output_type": "execute_result"
    }
   ],
   "source": [
    "Album_rank.rename(columns={'Album Name':'Album_name','Artist Name':'Artist_name'},inplace=True)\n",
    "Album_rank.head()"
   ]
  },
  {
   "cell_type": "code",
   "execution_count": 92,
   "id": "10d41ff7",
   "metadata": {},
   "outputs": [
    {
     "data": {
      "text/html": [
       "<div>\n",
       "<style scoped>\n",
       "    .dataframe tbody tr th:only-of-type {\n",
       "        vertical-align: middle;\n",
       "    }\n",
       "\n",
       "    .dataframe tbody tr th {\n",
       "        vertical-align: top;\n",
       "    }\n",
       "\n",
       "    .dataframe thead th {\n",
       "        text-align: right;\n",
       "    }\n",
       "</style>\n",
       "<table border=\"1\" class=\"dataframe\">\n",
       "  <thead>\n",
       "    <tr style=\"text-align: right;\">\n",
       "      <th></th>\n",
       "      <th>track_name</th>\n",
       "      <th>acousticness</th>\n",
       "      <th>danceability</th>\n",
       "      <th>duration</th>\n",
       "      <th>energy</th>\n",
       "      <th>instrumentalness</th>\n",
       "      <th>key</th>\n",
       "      <th>liveness</th>\n",
       "      <th>loudness</th>\n",
       "      <th>mode</th>\n",
       "      <th>speechiness</th>\n",
       "      <th>tempo</th>\n",
       "      <th>valence</th>\n",
       "      <th>Genre</th>\n",
       "    </tr>\n",
       "  </thead>\n",
       "  <tbody>\n",
       "    <tr>\n",
       "      <th>0</th>\n",
       "      <td>Röyksopp's Night Out</td>\n",
       "      <td>0.00468</td>\n",
       "      <td>0.652</td>\n",
       "      <td>-1.0</td>\n",
       "      <td>0.941</td>\n",
       "      <td>0.79200</td>\n",
       "      <td>A#</td>\n",
       "      <td>0.115</td>\n",
       "      <td>-5.201</td>\n",
       "      <td>Minor</td>\n",
       "      <td>0.0748</td>\n",
       "      <td>100.889</td>\n",
       "      <td>0.759</td>\n",
       "      <td>Electronic</td>\n",
       "    </tr>\n",
       "    <tr>\n",
       "      <th>1</th>\n",
       "      <td>The Shining Path</td>\n",
       "      <td>0.01270</td>\n",
       "      <td>0.622</td>\n",
       "      <td>218293.0</td>\n",
       "      <td>0.890</td>\n",
       "      <td>0.95000</td>\n",
       "      <td>D</td>\n",
       "      <td>0.124</td>\n",
       "      <td>-7.043</td>\n",
       "      <td>Minor</td>\n",
       "      <td>0.0300</td>\n",
       "      <td>115.00200000000001</td>\n",
       "      <td>0.531</td>\n",
       "      <td>Electronic</td>\n",
       "    </tr>\n",
       "    <tr>\n",
       "      <th>2</th>\n",
       "      <td>Hurricane</td>\n",
       "      <td>0.00306</td>\n",
       "      <td>0.620</td>\n",
       "      <td>215613.0</td>\n",
       "      <td>0.755</td>\n",
       "      <td>0.01180</td>\n",
       "      <td>G#</td>\n",
       "      <td>0.534</td>\n",
       "      <td>-4.617</td>\n",
       "      <td>Major</td>\n",
       "      <td>0.0345</td>\n",
       "      <td>127.994</td>\n",
       "      <td>0.333</td>\n",
       "      <td>Electronic</td>\n",
       "    </tr>\n",
       "    <tr>\n",
       "      <th>3</th>\n",
       "      <td>Nitro</td>\n",
       "      <td>0.02540</td>\n",
       "      <td>0.774</td>\n",
       "      <td>166875.0</td>\n",
       "      <td>0.700</td>\n",
       "      <td>0.00253</td>\n",
       "      <td>C#</td>\n",
       "      <td>0.157</td>\n",
       "      <td>-4.498</td>\n",
       "      <td>Major</td>\n",
       "      <td>0.2390</td>\n",
       "      <td>128.014</td>\n",
       "      <td>0.270</td>\n",
       "      <td>Electronic</td>\n",
       "    </tr>\n",
       "    <tr>\n",
       "      <th>4</th>\n",
       "      <td>Divide &amp; Conquer</td>\n",
       "      <td>0.00465</td>\n",
       "      <td>0.638</td>\n",
       "      <td>222369.0</td>\n",
       "      <td>0.587</td>\n",
       "      <td>0.90900</td>\n",
       "      <td>F#</td>\n",
       "      <td>0.157</td>\n",
       "      <td>-6.266</td>\n",
       "      <td>Major</td>\n",
       "      <td>0.0413</td>\n",
       "      <td>145.036</td>\n",
       "      <td>0.323</td>\n",
       "      <td>Electronic</td>\n",
       "    </tr>\n",
       "  </tbody>\n",
       "</table>\n",
       "</div>"
      ],
      "text/plain": [
       "             track_name  acousticness  danceability  duration  energy  \\\n",
       "0  Röyksopp's Night Out       0.00468         0.652      -1.0   0.941   \n",
       "1      The Shining Path       0.01270         0.622  218293.0   0.890   \n",
       "2             Hurricane       0.00306         0.620  215613.0   0.755   \n",
       "3                 Nitro       0.02540         0.774  166875.0   0.700   \n",
       "4      Divide & Conquer       0.00465         0.638  222369.0   0.587   \n",
       "\n",
       "   instrumentalness key  liveness  loudness   mode  speechiness  \\\n",
       "0           0.79200  A#     0.115    -5.201  Minor       0.0748   \n",
       "1           0.95000   D     0.124    -7.043  Minor       0.0300   \n",
       "2           0.01180  G#     0.534    -4.617  Major       0.0345   \n",
       "3           0.00253  C#     0.157    -4.498  Major       0.2390   \n",
       "4           0.90900  F#     0.157    -6.266  Major       0.0413   \n",
       "\n",
       "                tempo  valence       Genre  \n",
       "0             100.889    0.759  Electronic  \n",
       "1  115.00200000000001    0.531  Electronic  \n",
       "2             127.994    0.333  Electronic  \n",
       "3             128.014    0.270  Electronic  \n",
       "4             145.036    0.323  Electronic  "
      ]
     },
     "execution_count": 92,
     "metadata": {},
     "output_type": "execute_result"
    }
   ],
   "source": [
    "#Music_Genre.rename(columns={'music_genre':'Genre','duration_ms':'duration'},inplace=True)\n",
    "#Music_Genre.dropna(inplace=True)\n",
    "Music_Genre=Music_Genre[~Music_Genre[Music_Genre.columns].isin(['?']).any(axis=1)]\n",
    "Music_Genre.head()"
   ]
  },
  {
   "cell_type": "code",
   "execution_count": 14,
   "id": "2001ea29",
   "metadata": {},
   "outputs": [
    {
     "data": {
      "text/html": [
       "<div>\n",
       "<style scoped>\n",
       "    .dataframe tbody tr th:only-of-type {\n",
       "        vertical-align: middle;\n",
       "    }\n",
       "\n",
       "    .dataframe tbody tr th {\n",
       "        vertical-align: top;\n",
       "    }\n",
       "\n",
       "    .dataframe thead th {\n",
       "        text-align: right;\n",
       "    }\n",
       "</style>\n",
       "<table border=\"1\" class=\"dataframe\">\n",
       "  <thead>\n",
       "    <tr style=\"text-align: right;\">\n",
       "      <th></th>\n",
       "      <th>Artist_name</th>\n",
       "      <th>Track_name</th>\n",
       "      <th>Popularity</th>\n",
       "    </tr>\n",
       "  </thead>\n",
       "  <tbody>\n",
       "    <tr>\n",
       "      <th>0</th>\n",
       "      <td>Röyksopp</td>\n",
       "      <td>Röyksopp's Night Out</td>\n",
       "      <td>27.0</td>\n",
       "    </tr>\n",
       "    <tr>\n",
       "      <th>1</th>\n",
       "      <td>Thievery Corporation</td>\n",
       "      <td>The Shining Path</td>\n",
       "      <td>31.0</td>\n",
       "    </tr>\n",
       "    <tr>\n",
       "      <th>2</th>\n",
       "      <td>Dillon Francis</td>\n",
       "      <td>Hurricane</td>\n",
       "      <td>28.0</td>\n",
       "    </tr>\n",
       "    <tr>\n",
       "      <th>3</th>\n",
       "      <td>Dubloadz</td>\n",
       "      <td>Nitro</td>\n",
       "      <td>34.0</td>\n",
       "    </tr>\n",
       "    <tr>\n",
       "      <th>4</th>\n",
       "      <td>What So Not</td>\n",
       "      <td>Divide &amp; Conquer</td>\n",
       "      <td>32.0</td>\n",
       "    </tr>\n",
       "  </tbody>\n",
       "</table>\n",
       "</div>"
      ],
      "text/plain": [
       "            Artist_name            Track_name  Popularity\n",
       "0              Röyksopp  Röyksopp's Night Out        27.0\n",
       "1  Thievery Corporation      The Shining Path        31.0\n",
       "2        Dillon Francis             Hurricane        28.0\n",
       "3              Dubloadz                 Nitro        34.0\n",
       "4           What So Not      Divide & Conquer        32.0"
      ]
     },
     "execution_count": 14,
     "metadata": {},
     "output_type": "execute_result"
    }
   ],
   "source": [
    "#Song_popularity.drop(columns={'Unnamed: 0'},inplace=True)\n",
    "Song_popularity.rename(columns={'artist_name':'Artist_name','track_name':'Track_name','popularity':'Popularity'},inplace=True)\n",
    "Song_popularity.dropna(inplace=True)\n",
    "Song_popularity.head()"
   ]
  },
  {
   "cell_type": "markdown",
   "id": "2b4ab0fa",
   "metadata": {},
   "source": [
    "# Inserting data into the tables"
   ]
  },
  {
   "cell_type": "code",
   "execution_count": 41,
   "id": "ebd7d968",
   "metadata": {},
   "outputs": [
    {
     "name": "stdout",
     "output_type": "stream",
     "text": [
      "Table 1 inserted\n"
     ]
    }
   ],
   "source": [
    "# Generate placeholders for the values\n",
    "placeholders = ' , '.join(['%s'] * len(Krishna_music.columns))\n",
    "columns = ', '.join(Krishna_music.columns)    \n",
    "# Create the SQL statement for inserting values into the table\n",
    "insert_query = f\"INSERT INTO Krishna_music ({columns}) VALUES ({placeholders})\"\n",
    "cursor.executemany(insert_query,Krishna_music.values.tolist())\n",
    "print(\"Table 1 inserted\")\n",
    "conn.commit()\n"
   ]
  },
  {
   "cell_type": "code",
   "execution_count": 62,
   "id": "86fa369e",
   "metadata": {},
   "outputs": [
    {
     "name": "stdout",
     "output_type": "stream",
     "text": [
      "Table 2 inserted\n"
     ]
    }
   ],
   "source": [
    "placeholders = ' , '.join(['%s'] * len(Album_release.columns))\n",
    "columns = ', '.join(Album_release.columns)    \n",
    "# Create the SQL statement for inserting values into the table\n",
    "insert_query = f\"INSERT INTO Album_release ({columns}) VALUES ({placeholders})\"\n",
    "cursor.executemany(insert_query,Album_release.values.tolist())\n",
    "print(\"Table 2 inserted\")\n",
    "conn.commit()\n"
   ]
  },
  {
   "cell_type": "code",
   "execution_count": 74,
   "id": "15d71510",
   "metadata": {},
   "outputs": [
    {
     "name": "stdout",
     "output_type": "stream",
     "text": [
      "Table 3 inserted\n"
     ]
    }
   ],
   "source": [
    "placeholders = ' , '.join(['%s'] * len(Album_rank.columns))\n",
    "columns = ', '.join(Album_rank.columns)    \n",
    "# Create the SQL statement for inserting values into the table\n",
    "insert_query = f\"INSERT INTO Album_rank ({columns}) VALUES ({placeholders})\"\n",
    "cursor.executemany(insert_query,Album_rank.values.tolist())\n",
    "print(\"Table 3 inserted\")\n",
    "conn.commit()"
   ]
  },
  {
   "cell_type": "code",
   "execution_count": 12,
   "id": "dc8837b1",
   "metadata": {},
   "outputs": [],
   "source": [
    "Music_Genre=Music_Genre.head(16000)\n",
    "Song_popularity=Song_popularity.head(16000)"
   ]
  },
  {
   "cell_type": "code",
   "execution_count": 95,
   "id": "074832cd",
   "metadata": {},
   "outputs": [
    {
     "name": "stdout",
     "output_type": "stream",
     "text": [
      "Table 4 inserted\n"
     ]
    }
   ],
   "source": [
    "placeholders = ' , '.join(['%s'] * len(Music_Genre.columns))\n",
    "columns = ', '.join(Music_Genre.columns)    \n",
    "# Create the SQL statement for inserting values into the table\n",
    "insert_query = f\"INSERT INTO Music_Genre ({columns}) VALUES ({placeholders})\"\n",
    "cursor.executemany(insert_query,Music_Genre.values.tolist())\n",
    "print(\"Table 4 inserted\")\n",
    "conn.commit()\n"
   ]
  },
  {
   "cell_type": "code",
   "execution_count": 15,
   "id": "3a224a41",
   "metadata": {},
   "outputs": [
    {
     "name": "stdout",
     "output_type": "stream",
     "text": [
      "Table 5 inserted\n"
     ]
    }
   ],
   "source": [
    "placeholders = ' , '.join(['%s'] * len(Song_popularity.columns))\n",
    "columns = ', '.join(Song_popularity.columns)    \n",
    "# Create the SQL statement for inserting values into the table\n",
    "insert_query = f\"INSERT INTO Song_popularity ({columns}) VALUES ({placeholders})\"\n",
    "cursor.executemany(insert_query,Song_popularity.values.tolist())\n",
    "print(\"Table 5 inserted\")\n",
    "conn.commit()"
   ]
  }
 ],
 "metadata": {
  "kernelspec": {
   "display_name": "Python 3 (ipykernel)",
   "language": "python",
   "name": "python3"
  },
  "language_info": {
   "codemirror_mode": {
    "name": "ipython",
    "version": 3
   },
   "file_extension": ".py",
   "mimetype": "text/x-python",
   "name": "python",
   "nbconvert_exporter": "python",
   "pygments_lexer": "ipython3",
   "version": "3.9.12"
  }
 },
 "nbformat": 4,
 "nbformat_minor": 5
}

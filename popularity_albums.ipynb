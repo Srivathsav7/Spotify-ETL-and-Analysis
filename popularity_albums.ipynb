{
 "cells": [
  {
   "cell_type": "markdown",
   "id": "720a12bb",
   "metadata": {},
   "source": [
    "# Extracting Data for top 50 albums in each year"
   ]
  },
  {
   "cell_type": "code",
   "execution_count": 19,
   "id": "ee092159",
   "metadata": {},
   "outputs": [],
   "source": [
    "import spotipy\n",
    "from spotipy.oauth2 import SpotifyClientCredentials\n",
    "import pandas as pd\n",
    "\n",
    "# Set up client credentials\n",
    "client_id = '3078b6cd6b0441bc928e0683ab8a6b78'\n",
    "client_secret = 'fa9b3d18e7414446a8d1d3f28a9e9aa5'\n",
    "client_credentials_manager = SpotifyClientCredentials(client_id=client_id, client_secret=client_secret)\n",
    "sp = spotipy.Spotify(client_credentials_manager=client_credentials_manager)\n",
    "\n",
    "# Retrieve data on all albums\n",
    "years=['2015','2016','2017','2018','2019','2020','2021','2022','2023']\n",
    "l=[]\n",
    "for year in years:\n",
    "    results = sp.search(q=f'year:{year}', type='album', limit=50)\n",
    "    l.append(results)\n",
    "    \n",
    "\n"
   ]
  },
  {
   "cell_type": "markdown",
   "id": "2b3113c5",
   "metadata": {},
   "source": [
    "# Getting it in the required format"
   ]
  },
  {
   "cell_type": "code",
   "execution_count": 27,
   "id": "f6008462",
   "metadata": {},
   "outputs": [
    {
     "data": {
      "text/html": [
       "<div>\n",
       "<style scoped>\n",
       "    .dataframe tbody tr th:only-of-type {\n",
       "        vertical-align: middle;\n",
       "    }\n",
       "\n",
       "    .dataframe tbody tr th {\n",
       "        vertical-align: top;\n",
       "    }\n",
       "\n",
       "    .dataframe thead th {\n",
       "        text-align: right;\n",
       "    }\n",
       "</style>\n",
       "<table border=\"1\" class=\"dataframe\">\n",
       "  <thead>\n",
       "    <tr style=\"text-align: right;\">\n",
       "      <th></th>\n",
       "      <th>Album Name</th>\n",
       "      <th>Album ID</th>\n",
       "      <th>Number of Songs</th>\n",
       "      <th>Release Date</th>\n",
       "    </tr>\n",
       "  </thead>\n",
       "  <tbody>\n",
       "    <tr>\n",
       "      <th>0</th>\n",
       "      <td>Hamilton (Original Broadway Cast Recording)</td>\n",
       "      <td>1kCHru7uhxBUdzkm4gzRQc</td>\n",
       "      <td>46</td>\n",
       "      <td>2015-09-25</td>\n",
       "    </tr>\n",
       "    <tr>\n",
       "      <th>1</th>\n",
       "      <td>Beauty Behind The Madness</td>\n",
       "      <td>0P3oVJBFOv3TDXlYRhGL7s</td>\n",
       "      <td>14</td>\n",
       "      <td>2015-08-28</td>\n",
       "    </tr>\n",
       "    <tr>\n",
       "      <th>2</th>\n",
       "      <td>Currents</td>\n",
       "      <td>79dL7FLiJFOO0EoehUHQBv</td>\n",
       "      <td>13</td>\n",
       "      <td>2015-07-17</td>\n",
       "    </tr>\n",
       "    <tr>\n",
       "      <th>3</th>\n",
       "      <td>Cry Baby (Deluxe Edition)</td>\n",
       "      <td>5JpH5T1sCYnUyZD6TM0QaY</td>\n",
       "      <td>16</td>\n",
       "      <td>2015-08-14</td>\n",
       "    </tr>\n",
       "    <tr>\n",
       "      <th>4</th>\n",
       "      <td>T R A P S O U L</td>\n",
       "      <td>6eZdwrhB97A3EYx9QppGfl</td>\n",
       "      <td>14</td>\n",
       "      <td>2015-10-02</td>\n",
       "    </tr>\n",
       "  </tbody>\n",
       "</table>\n",
       "</div>"
      ],
      "text/plain": [
       "                                    Album Name                Album ID  \\\n",
       "0  Hamilton (Original Broadway Cast Recording)  1kCHru7uhxBUdzkm4gzRQc   \n",
       "1                    Beauty Behind The Madness  0P3oVJBFOv3TDXlYRhGL7s   \n",
       "2                                     Currents  79dL7FLiJFOO0EoehUHQBv   \n",
       "3                    Cry Baby (Deluxe Edition)  5JpH5T1sCYnUyZD6TM0QaY   \n",
       "4                              T R A P S O U L  6eZdwrhB97A3EYx9QppGfl   \n",
       "\n",
       "   Number of Songs Release Date  \n",
       "0               46   2015-09-25  \n",
       "1               14   2015-08-28  \n",
       "2               13   2015-07-17  \n",
       "3               16   2015-08-14  \n",
       "4               14   2015-10-02  "
      ]
     },
     "execution_count": 27,
     "metadata": {},
     "output_type": "execute_result"
    }
   ],
   "source": [
    "# Initialize empty lists for album data\n",
    "album_names = []\n",
    "album_ids = []\n",
    "num_songs = []\n",
    "release_date=[]\n",
    "# Loop through albums and retrieve data\n",
    "for i in l:\n",
    "    for album in i['albums']['items']:\n",
    "        album_names.append(album['name'])\n",
    "        album_ids.append(album['id'])\n",
    "        num_songs.append(album['total_tracks'])\n",
    "        release_date.append(album['release_date'])\n",
    "\n",
    "# Create dataframe from album data\n",
    "df = pd.DataFrame({'Album Name': album_names,\n",
    "                   'Album ID': album_ids,\n",
    "                   'Number of Songs': num_songs,\n",
    "                   'Release Date':release_date})\n",
    "\n",
    "df.head()"
   ]
  },
  {
   "cell_type": "code",
   "execution_count": 28,
   "id": "d78c7c72",
   "metadata": {},
   "outputs": [
    {
     "data": {
      "text/plain": [
       "450"
      ]
     },
     "execution_count": 28,
     "metadata": {},
     "output_type": "execute_result"
    }
   ],
   "source": [
    "len(df)"
   ]
  },
  {
   "cell_type": "code",
   "execution_count": 30,
   "id": "4c099542",
   "metadata": {},
   "outputs": [],
   "source": [
    "df.to_excel('album_release.xlsx')"
   ]
  }
 ],
 "metadata": {
  "kernelspec": {
   "display_name": "Python 3 (ipykernel)",
   "language": "python",
   "name": "python3"
  },
  "language_info": {
   "codemirror_mode": {
    "name": "ipython",
    "version": 3
   },
   "file_extension": ".py",
   "mimetype": "text/x-python",
   "name": "python",
   "nbconvert_exporter": "python",
   "pygments_lexer": "ipython3",
   "version": "3.9.12"
  }
 },
 "nbformat": 4,
 "nbformat_minor": 5
}

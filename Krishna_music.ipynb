{
 "cells": [
  {
   "cell_type": "markdown",
   "id": "1bfe0f4b",
   "metadata": {},
   "source": [
    "# Importing libraries "
   ]
  },
  {
   "cell_type": "code",
   "execution_count": null,
   "id": "afba0fef",
   "metadata": {},
   "outputs": [],
   "source": [
    "#importing libraries\n",
    "import pandas as pd\n",
    "import numpy as np\n",
    "import json \n",
    "import requests as re\n",
    "import time\n",
    "import spotipy\n",
    "from spotipy.oauth2 import SpotifyOAuth\n",
    "import datetime\n",
    "from spotipy.oauth2 import SpotifyClientCredentials"
   ]
  },
  {
   "cell_type": "markdown",
   "id": "46f9d71e",
   "metadata": {},
   "source": [
    "# Getting Access Token"
   ]
  },
  {
   "cell_type": "code",
   "execution_count": 3,
   "id": "806cf008",
   "metadata": {},
   "outputs": [],
   "source": [
    "#Get access token\n",
    "client_id=\"3078b6cd6b0441bc928e0683ab8a6b78\"\n",
    "client_secret=\"fa9b3d18e7414446a8d1d3f28a9e9aa5\"\n",
    "#sp = spotipy.Spotify(auth_manager=SpotifyClientCredentials())\n",
    "scope = \"user-read-recently-played\"\n",
    "redirect_uri = \"http://localhost:8889/callback\"\n",
    "sp = spotipy.Spotify(auth_manager=SpotifyOAuth(client_id=client_id, client_secret=client_secret,scope=scope,redirect_uri=redirect_uri))"
   ]
  },
  {
   "cell_type": "code",
   "execution_count": 4,
   "id": "70c523e8",
   "metadata": {},
   "outputs": [],
   "source": [
    "results = sp.current_user_recently_played()"
   ]
  },
  {
   "cell_type": "markdown",
   "id": "e02c2235",
   "metadata": {},
   "source": [
    "# Getting the data in required format"
   ]
  },
  {
   "cell_type": "code",
   "execution_count": 6,
   "id": "a2034d22",
   "metadata": {},
   "outputs": [],
   "source": [
    "#1st Run\n",
    "#get data in column format from json data\n",
    "data = []\n",
    "dates=[]\n",
    "for item in results['items']:\n",
    "    track = item['track']\n",
    "    dates.append(item['played_at'])\n",
    "    data.append([track['id'],track['name'],\n",
    "                track['artists'][0]['name'],\n",
    "                 track['album']['name'],\n",
    "                 item['played_at'],\n",
    "                 ])\n",
    "    \n",
    "# Create a pandas DataFrame from the extracted data\n",
    "columns = ['Song ID', 'Song Name','Artist Name','Album Name', 'Played Date']\n",
    "df = pd.DataFrame(data, columns=columns)"
   ]
  },
  {
   "cell_type": "code",
   "execution_count": 8,
   "id": "732c27e9",
   "metadata": {},
   "outputs": [
    {
     "data": {
      "text/html": [
       "<div>\n",
       "<style scoped>\n",
       "    .dataframe tbody tr th:only-of-type {\n",
       "        vertical-align: middle;\n",
       "    }\n",
       "\n",
       "    .dataframe tbody tr th {\n",
       "        vertical-align: top;\n",
       "    }\n",
       "\n",
       "    .dataframe thead th {\n",
       "        text-align: right;\n",
       "    }\n",
       "</style>\n",
       "<table border=\"1\" class=\"dataframe\">\n",
       "  <thead>\n",
       "    <tr style=\"text-align: right;\">\n",
       "      <th></th>\n",
       "      <th>Song ID</th>\n",
       "      <th>Song Name</th>\n",
       "      <th>Artist Name</th>\n",
       "      <th>Album Name</th>\n",
       "      <th>Played Date</th>\n",
       "    </tr>\n",
       "  </thead>\n",
       "  <tbody>\n",
       "    <tr>\n",
       "      <th>0</th>\n",
       "      <td>6AQbmUe0Qwf5PZnt4HmTXv</td>\n",
       "      <td>Boy's a liar Pt. 2</td>\n",
       "      <td>PinkPantheress</td>\n",
       "      <td>Boy's a liar Pt. 2</td>\n",
       "      <td>2023-05-14T15:53:57.265Z</td>\n",
       "    </tr>\n",
       "    <tr>\n",
       "      <th>1</th>\n",
       "      <td>5fVZC9GiM4e8vu99W0Xf6J</td>\n",
       "      <td>How to Save a Life</td>\n",
       "      <td>The Fray</td>\n",
       "      <td>How To Save A Life</td>\n",
       "      <td>2023-05-14T05:53:47.150Z</td>\n",
       "    </tr>\n",
       "    <tr>\n",
       "      <th>2</th>\n",
       "      <td>5hnyJvgoWiQUYZttV4wXy6</td>\n",
       "      <td>Chasing Cars</td>\n",
       "      <td>Snow Patrol</td>\n",
       "      <td>Eyes Open</td>\n",
       "      <td>2023-05-14T05:51:12.437Z</td>\n",
       "    </tr>\n",
       "    <tr>\n",
       "      <th>3</th>\n",
       "      <td>4RCWB3V8V0dignt99LZ8vH</td>\n",
       "      <td>Hey There Delilah</td>\n",
       "      <td>Plain White T's</td>\n",
       "      <td>All That We Needed</td>\n",
       "      <td>2023-05-14T05:46:04.159Z</td>\n",
       "    </tr>\n",
       "    <tr>\n",
       "      <th>4</th>\n",
       "      <td>2lFlveK1y13WWp3vnQtrr3</td>\n",
       "      <td>100 Years</td>\n",
       "      <td>Five For Fighting</td>\n",
       "      <td>The Battle for Everything</td>\n",
       "      <td>2023-05-14T05:42:11.233Z</td>\n",
       "    </tr>\n",
       "  </tbody>\n",
       "</table>\n",
       "</div>"
      ],
      "text/plain": [
       "                  Song ID           Song Name        Artist Name  \\\n",
       "0  6AQbmUe0Qwf5PZnt4HmTXv  Boy's a liar Pt. 2     PinkPantheress   \n",
       "1  5fVZC9GiM4e8vu99W0Xf6J  How to Save a Life           The Fray   \n",
       "2  5hnyJvgoWiQUYZttV4wXy6        Chasing Cars        Snow Patrol   \n",
       "3  4RCWB3V8V0dignt99LZ8vH   Hey There Delilah    Plain White T's   \n",
       "4  2lFlveK1y13WWp3vnQtrr3           100 Years  Five For Fighting   \n",
       "\n",
       "                  Album Name               Played Date  \n",
       "0         Boy's a liar Pt. 2  2023-05-14T15:53:57.265Z  \n",
       "1         How To Save A Life  2023-05-14T05:53:47.150Z  \n",
       "2                  Eyes Open  2023-05-14T05:51:12.437Z  \n",
       "3         All That We Needed  2023-05-14T05:46:04.159Z  \n",
       "4  The Battle for Everything  2023-05-14T05:42:11.233Z  "
      ]
     },
     "execution_count": 8,
     "metadata": {},
     "output_type": "execute_result"
    }
   ],
   "source": [
    "df.head()"
   ]
  },
  {
   "cell_type": "code",
   "execution_count": 9,
   "id": "e0e6c13d",
   "metadata": {},
   "outputs": [],
   "source": [
    "df.to_excel('Krishna_music.xlsx')"
   ]
  }
 ],
 "metadata": {
  "kernelspec": {
   "display_name": "Python 3 (ipykernel)",
   "language": "python",
   "name": "python3"
  },
  "language_info": {
   "codemirror_mode": {
    "name": "ipython",
    "version": 3
   },
   "file_extension": ".py",
   "mimetype": "text/x-python",
   "name": "python",
   "nbconvert_exporter": "python",
   "pygments_lexer": "ipython3",
   "version": "3.9.12"
  }
 },
 "nbformat": 4,
 "nbformat_minor": 5
}

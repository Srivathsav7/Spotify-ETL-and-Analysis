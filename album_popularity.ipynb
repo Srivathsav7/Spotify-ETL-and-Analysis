{
 "cells": [
  {
   "cell_type": "markdown",
   "id": "aa34d650",
   "metadata": {},
   "source": [
    "# Importing Libraries"
   ]
  },
  {
   "cell_type": "code",
   "execution_count": 16,
   "id": "f76f4ff0",
   "metadata": {},
   "outputs": [],
   "source": [
    "import requests as re\n",
    "import pandas as pd"
   ]
  },
  {
   "cell_type": "markdown",
   "id": "370182bf",
   "metadata": {},
   "source": [
    "# Extracting Data  "
   ]
  },
  {
   "cell_type": "code",
   "execution_count": 23,
   "id": "e8fcfba4",
   "metadata": {},
   "outputs": [],
   "source": [
    "api_key='f73433ac7fc4f9cb9387403a3637aae5'\n",
    "l=['rock','electronic','pop','jazz','blues','r&b','soul']\n",
    "k=[]\n",
    "genre=[]\n",
    "for i in l:\n",
    "    url=f'http://ws.audioscrobbler.com/2.0/?method=tag.gettopalbums&tag={i}&api_key={api_key}&format=json'\n",
    "    r=re.get(url)\n",
    "    a=r.json()\n",
    "    k.append(a)\n",
    "    for j in range(1,51):\n",
    "        genre.append(i)"
   ]
  },
  {
   "cell_type": "markdown",
   "id": "8e3bba34",
   "metadata": {},
   "source": [
    "# Getting it in the required format"
   ]
  },
  {
   "cell_type": "code",
   "execution_count": 25,
   "id": "cb46d80b",
   "metadata": {},
   "outputs": [],
   "source": [
    "name=[]\n",
    "artist=[]\n",
    "rank=[]\n",
    "for i in k:\n",
    "    for j in i['albums']['album']:\n",
    "        name.append(j['name'])\n",
    "        artist.append(j['artist']['name'])\n",
    "        rank.append(j['@attr']['rank'])\n",
    "df=pd.DataFrame({'Album Name':name,'Artist Name':artist,'Rank':rank,'Genre':genre})"
   ]
  },
  {
   "cell_type": "code",
   "execution_count": 26,
   "id": "0f50f46e",
   "metadata": {},
   "outputs": [
    {
     "data": {
      "text/html": [
       "<div>\n",
       "<style scoped>\n",
       "    .dataframe tbody tr th:only-of-type {\n",
       "        vertical-align: middle;\n",
       "    }\n",
       "\n",
       "    .dataframe tbody tr th {\n",
       "        vertical-align: top;\n",
       "    }\n",
       "\n",
       "    .dataframe thead th {\n",
       "        text-align: right;\n",
       "    }\n",
       "</style>\n",
       "<table border=\"1\" class=\"dataframe\">\n",
       "  <thead>\n",
       "    <tr style=\"text-align: right;\">\n",
       "      <th></th>\n",
       "      <th>Album Name</th>\n",
       "      <th>Artist Name</th>\n",
       "      <th>Rank</th>\n",
       "      <th>Genre</th>\n",
       "    </tr>\n",
       "  </thead>\n",
       "  <tbody>\n",
       "    <tr>\n",
       "      <th>0</th>\n",
       "      <td>Minutes to Midnight</td>\n",
       "      <td>Linkin Park</td>\n",
       "      <td>1</td>\n",
       "      <td>rock</td>\n",
       "    </tr>\n",
       "    <tr>\n",
       "      <th>1</th>\n",
       "      <td>Abbey Road (Remastered)</td>\n",
       "      <td>The Beatles</td>\n",
       "      <td>2</td>\n",
       "      <td>rock</td>\n",
       "    </tr>\n",
       "    <tr>\n",
       "      <th>2</th>\n",
       "      <td>The Beatles (Remastered)</td>\n",
       "      <td>The Beatles</td>\n",
       "      <td>3</td>\n",
       "      <td>rock</td>\n",
       "    </tr>\n",
       "    <tr>\n",
       "      <th>3</th>\n",
       "      <td>Rumours (Super Deluxe)</td>\n",
       "      <td>Fleetwood Mac</td>\n",
       "      <td>4</td>\n",
       "      <td>rock</td>\n",
       "    </tr>\n",
       "    <tr>\n",
       "      <th>4</th>\n",
       "      <td>O My Heart</td>\n",
       "      <td>Mother Mother</td>\n",
       "      <td>5</td>\n",
       "      <td>rock</td>\n",
       "    </tr>\n",
       "  </tbody>\n",
       "</table>\n",
       "</div>"
      ],
      "text/plain": [
       "                 Album Name    Artist Name Rank Genre\n",
       "0       Minutes to Midnight    Linkin Park    1  rock\n",
       "1   Abbey Road (Remastered)    The Beatles    2  rock\n",
       "2  The Beatles (Remastered)    The Beatles    3  rock\n",
       "3    Rumours (Super Deluxe)  Fleetwood Mac    4  rock\n",
       "4                O My Heart  Mother Mother    5  rock"
      ]
     },
     "execution_count": 26,
     "metadata": {},
     "output_type": "execute_result"
    }
   ],
   "source": [
    "df.head()"
   ]
  },
  {
   "cell_type": "code",
   "execution_count": 27,
   "id": "d06d2711",
   "metadata": {},
   "outputs": [],
   "source": [
    "df.to_excel('Album_genre_rank.xlsx')"
   ]
  }
 ],
 "metadata": {
  "kernelspec": {
   "display_name": "Python 3 (ipykernel)",
   "language": "python",
   "name": "python3"
  },
  "language_info": {
   "codemirror_mode": {
    "name": "ipython",
    "version": 3
   },
   "file_extension": ".py",
   "mimetype": "text/x-python",
   "name": "python",
   "nbconvert_exporter": "python",
   "pygments_lexer": "ipython3",
   "version": "3.9.12"
  }
 },
 "nbformat": 4,
 "nbformat_minor": 5
}
